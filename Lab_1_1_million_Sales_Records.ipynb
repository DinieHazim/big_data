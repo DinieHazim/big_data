{
  "cells": [
    {
      "cell_type": "markdown",
      "source": [
        "\n",
        "\n",
        "#1.   ADAM WAFII BIN AZUAR (A20EC0003)\n",
        "\n",
        "#2.   MUHAMMAD DINIE HAZIM BIN AZALI (A20EC0084)\n",
        "\n"
      ],
      "metadata": {
        "id": "plbCZxrbGeG0"
      }
    },
    {
      "cell_type": "markdown",
      "metadata": {
        "id": "BU7NzzW3qLxh"
      },
      "source": [
        "# Handle Large Data (CSV): 1000000 Sales Records"
      ]
    },
    {
      "cell_type": "markdown",
      "source": [
        "[Dataset: 1000000 Sales Records](https://github.com/drshahizan/dataset/raw/main/1000000%20Sales%20Records.rar). \n",
        "\n",
        "[Youtube: Tutorial](https://youtu.be/bd_1T2JCr4M)\n",
        "\n",
        "Instruction:\n",
        "* Please extract the file *1000000 Sales Records.rar*.\n",
        "* Please enter the file location: *1000000 Sales Records.csv* in code"
      ],
      "metadata": {
        "id": "I3MzJUC1tKID"
      }
    },
    {
      "cell_type": "code",
      "source": [
        "import pandas as pd\n",
        "import numpy as np"
      ],
      "metadata": {
        "id": "uOFo1pOMFF0R"
      },
      "execution_count": null,
      "outputs": []
    },
    {
      "cell_type": "code",
      "execution_count": null,
      "metadata": {
        "id": "YcfJpUU3qLxh",
        "outputId": "14529a29-3b1a-4a46-ded5-a207e621ff09",
        "colab": {
          "base_uri": "https://localhost:8080/",
          "height": 424
        }
      },
      "outputs": [
        {
          "output_type": "execute_result",
          "data": {
            "text/plain": [
              "                         Region           Country  Item Type Sales Channel  \\\n",
              "0            Sub-Saharan Africa      South Africa     Fruits       Offline   \n",
              "1  Middle East and North Africa           Morocco    Clothes        Online   \n",
              "2         Australia and Oceania  Papua New Guinea       Meat       Offline   \n",
              "3            Sub-Saharan Africa          Djibouti    Clothes       Offline   \n",
              "4                        Europe          Slovakia  Beverages       Offline   \n",
              "\n",
              "  Order Priority  Order Date     Order ID   Ship Date  Units Sold  Unit Price  \\\n",
              "0              M   7/27/2012  443368995.0   7/28/2012      1593.0        9.33   \n",
              "1              M   9/14/2013  667593514.0  10/19/2013      4611.0      109.28   \n",
              "2              M   5/15/2015  940995585.0    6/4/2015       360.0      421.89   \n",
              "3              H   5/17/2017  880811536.0    7/2/2017       562.0      109.28   \n",
              "4              L  10/26/2016  174590194.0   12/4/2016      3973.0       47.45   \n",
              "\n",
              "   Unit Cost  Total Revenue  Total Cost  Total Profit  \n",
              "0       6.92       14862.69    11023.56       3839.13  \n",
              "1      35.84      503890.08   165258.24     338631.84  \n",
              "2     364.69      151880.40   131288.40      20592.00  \n",
              "3      35.84       61415.36    20142.08      41273.28  \n",
              "4      31.79      188518.85   126301.67      62217.18  "
            ],
            "text/html": [
              "\n",
              "  <div id=\"df-e20c14e8-b916-411a-bf22-bc3f989fc1cd\">\n",
              "    <div class=\"colab-df-container\">\n",
              "      <div>\n",
              "<style scoped>\n",
              "    .dataframe tbody tr th:only-of-type {\n",
              "        vertical-align: middle;\n",
              "    }\n",
              "\n",
              "    .dataframe tbody tr th {\n",
              "        vertical-align: top;\n",
              "    }\n",
              "\n",
              "    .dataframe thead th {\n",
              "        text-align: right;\n",
              "    }\n",
              "</style>\n",
              "<table border=\"1\" class=\"dataframe\">\n",
              "  <thead>\n",
              "    <tr style=\"text-align: right;\">\n",
              "      <th></th>\n",
              "      <th>Region</th>\n",
              "      <th>Country</th>\n",
              "      <th>Item Type</th>\n",
              "      <th>Sales Channel</th>\n",
              "      <th>Order Priority</th>\n",
              "      <th>Order Date</th>\n",
              "      <th>Order ID</th>\n",
              "      <th>Ship Date</th>\n",
              "      <th>Units Sold</th>\n",
              "      <th>Unit Price</th>\n",
              "      <th>Unit Cost</th>\n",
              "      <th>Total Revenue</th>\n",
              "      <th>Total Cost</th>\n",
              "      <th>Total Profit</th>\n",
              "    </tr>\n",
              "  </thead>\n",
              "  <tbody>\n",
              "    <tr>\n",
              "      <th>0</th>\n",
              "      <td>Sub-Saharan Africa</td>\n",
              "      <td>South Africa</td>\n",
              "      <td>Fruits</td>\n",
              "      <td>Offline</td>\n",
              "      <td>M</td>\n",
              "      <td>7/27/2012</td>\n",
              "      <td>443368995.0</td>\n",
              "      <td>7/28/2012</td>\n",
              "      <td>1593.0</td>\n",
              "      <td>9.33</td>\n",
              "      <td>6.92</td>\n",
              "      <td>14862.69</td>\n",
              "      <td>11023.56</td>\n",
              "      <td>3839.13</td>\n",
              "    </tr>\n",
              "    <tr>\n",
              "      <th>1</th>\n",
              "      <td>Middle East and North Africa</td>\n",
              "      <td>Morocco</td>\n",
              "      <td>Clothes</td>\n",
              "      <td>Online</td>\n",
              "      <td>M</td>\n",
              "      <td>9/14/2013</td>\n",
              "      <td>667593514.0</td>\n",
              "      <td>10/19/2013</td>\n",
              "      <td>4611.0</td>\n",
              "      <td>109.28</td>\n",
              "      <td>35.84</td>\n",
              "      <td>503890.08</td>\n",
              "      <td>165258.24</td>\n",
              "      <td>338631.84</td>\n",
              "    </tr>\n",
              "    <tr>\n",
              "      <th>2</th>\n",
              "      <td>Australia and Oceania</td>\n",
              "      <td>Papua New Guinea</td>\n",
              "      <td>Meat</td>\n",
              "      <td>Offline</td>\n",
              "      <td>M</td>\n",
              "      <td>5/15/2015</td>\n",
              "      <td>940995585.0</td>\n",
              "      <td>6/4/2015</td>\n",
              "      <td>360.0</td>\n",
              "      <td>421.89</td>\n",
              "      <td>364.69</td>\n",
              "      <td>151880.40</td>\n",
              "      <td>131288.40</td>\n",
              "      <td>20592.00</td>\n",
              "    </tr>\n",
              "    <tr>\n",
              "      <th>3</th>\n",
              "      <td>Sub-Saharan Africa</td>\n",
              "      <td>Djibouti</td>\n",
              "      <td>Clothes</td>\n",
              "      <td>Offline</td>\n",
              "      <td>H</td>\n",
              "      <td>5/17/2017</td>\n",
              "      <td>880811536.0</td>\n",
              "      <td>7/2/2017</td>\n",
              "      <td>562.0</td>\n",
              "      <td>109.28</td>\n",
              "      <td>35.84</td>\n",
              "      <td>61415.36</td>\n",
              "      <td>20142.08</td>\n",
              "      <td>41273.28</td>\n",
              "    </tr>\n",
              "    <tr>\n",
              "      <th>4</th>\n",
              "      <td>Europe</td>\n",
              "      <td>Slovakia</td>\n",
              "      <td>Beverages</td>\n",
              "      <td>Offline</td>\n",
              "      <td>L</td>\n",
              "      <td>10/26/2016</td>\n",
              "      <td>174590194.0</td>\n",
              "      <td>12/4/2016</td>\n",
              "      <td>3973.0</td>\n",
              "      <td>47.45</td>\n",
              "      <td>31.79</td>\n",
              "      <td>188518.85</td>\n",
              "      <td>126301.67</td>\n",
              "      <td>62217.18</td>\n",
              "    </tr>\n",
              "  </tbody>\n",
              "</table>\n",
              "</div>\n",
              "      <button class=\"colab-df-convert\" onclick=\"convertToInteractive('df-e20c14e8-b916-411a-bf22-bc3f989fc1cd')\"\n",
              "              title=\"Convert this dataframe to an interactive table.\"\n",
              "              style=\"display:none;\">\n",
              "        \n",
              "  <svg xmlns=\"http://www.w3.org/2000/svg\" height=\"24px\"viewBox=\"0 0 24 24\"\n",
              "       width=\"24px\">\n",
              "    <path d=\"M0 0h24v24H0V0z\" fill=\"none\"/>\n",
              "    <path d=\"M18.56 5.44l.94 2.06.94-2.06 2.06-.94-2.06-.94-.94-2.06-.94 2.06-2.06.94zm-11 1L8.5 8.5l.94-2.06 2.06-.94-2.06-.94L8.5 2.5l-.94 2.06-2.06.94zm10 10l.94 2.06.94-2.06 2.06-.94-2.06-.94-.94-2.06-.94 2.06-2.06.94z\"/><path d=\"M17.41 7.96l-1.37-1.37c-.4-.4-.92-.59-1.43-.59-.52 0-1.04.2-1.43.59L10.3 9.45l-7.72 7.72c-.78.78-.78 2.05 0 2.83L4 21.41c.39.39.9.59 1.41.59.51 0 1.02-.2 1.41-.59l7.78-7.78 2.81-2.81c.8-.78.8-2.07 0-2.86zM5.41 20L4 18.59l7.72-7.72 1.47 1.35L5.41 20z\"/>\n",
              "  </svg>\n",
              "      </button>\n",
              "      \n",
              "  <style>\n",
              "    .colab-df-container {\n",
              "      display:flex;\n",
              "      flex-wrap:wrap;\n",
              "      gap: 12px;\n",
              "    }\n",
              "\n",
              "    .colab-df-convert {\n",
              "      background-color: #E8F0FE;\n",
              "      border: none;\n",
              "      border-radius: 50%;\n",
              "      cursor: pointer;\n",
              "      display: none;\n",
              "      fill: #1967D2;\n",
              "      height: 32px;\n",
              "      padding: 0 0 0 0;\n",
              "      width: 32px;\n",
              "    }\n",
              "\n",
              "    .colab-df-convert:hover {\n",
              "      background-color: #E2EBFA;\n",
              "      box-shadow: 0px 1px 2px rgba(60, 64, 67, 0.3), 0px 1px 3px 1px rgba(60, 64, 67, 0.15);\n",
              "      fill: #174EA6;\n",
              "    }\n",
              "\n",
              "    [theme=dark] .colab-df-convert {\n",
              "      background-color: #3B4455;\n",
              "      fill: #D2E3FC;\n",
              "    }\n",
              "\n",
              "    [theme=dark] .colab-df-convert:hover {\n",
              "      background-color: #434B5C;\n",
              "      box-shadow: 0px 1px 3px 1px rgba(0, 0, 0, 0.15);\n",
              "      filter: drop-shadow(0px 1px 2px rgba(0, 0, 0, 0.3));\n",
              "      fill: #FFFFFF;\n",
              "    }\n",
              "  </style>\n",
              "\n",
              "      <script>\n",
              "        const buttonEl =\n",
              "          document.querySelector('#df-e20c14e8-b916-411a-bf22-bc3f989fc1cd button.colab-df-convert');\n",
              "        buttonEl.style.display =\n",
              "          google.colab.kernel.accessAllowed ? 'block' : 'none';\n",
              "\n",
              "        async function convertToInteractive(key) {\n",
              "          const element = document.querySelector('#df-e20c14e8-b916-411a-bf22-bc3f989fc1cd');\n",
              "          const dataTable =\n",
              "            await google.colab.kernel.invokeFunction('convertToInteractive',\n",
              "                                                     [key], {});\n",
              "          if (!dataTable) return;\n",
              "\n",
              "          const docLinkHtml = 'Like what you see? Visit the ' +\n",
              "            '<a target=\"_blank\" href=https://colab.research.google.com/notebooks/data_table.ipynb>data table notebook</a>'\n",
              "            + ' to learn more about interactive tables.';\n",
              "          element.innerHTML = '';\n",
              "          dataTable['output_type'] = 'display_data';\n",
              "          await google.colab.output.renderOutput(dataTable, element);\n",
              "          const docLink = document.createElement('div');\n",
              "          docLink.innerHTML = docLinkHtml;\n",
              "          element.appendChild(docLink);\n",
              "        }\n",
              "      </script>\n",
              "    </div>\n",
              "  </div>\n",
              "  "
            ]
          },
          "metadata": {},
          "execution_count": 21
        }
      ],
      "source": [
        "df = pd.read_csv('1000000 Sales Records.csv')\n",
        "df.head()"
      ]
    },
    {
      "cell_type": "code",
      "execution_count": null,
      "metadata": {
        "id": "3d1yGwF1qLxh",
        "outputId": "13b264e3-3746-4504-bf55-e14b5ee1bec3",
        "colab": {
          "base_uri": "https://localhost:8080/"
        }
      },
      "outputs": [
        {
          "output_type": "stream",
          "name": "stdout",
          "text": [
            "<class 'pandas.core.frame.DataFrame'>\n",
            "RangeIndex: 1000 entries, 0 to 999\n",
            "Columns: 14 entries, Region to Total Profit\n",
            "dtypes: float64(5), int64(2), object(7)\n",
            "memory usage: 502.1 KB\n"
          ]
        }
      ],
      "source": [
        "df.info(verbose=False, memory_usage='deep')"
      ]
    },
    {
      "cell_type": "markdown",
      "metadata": {
        "id": "agyxN95_qLxh"
      },
      "source": [
        "## nrows"
      ]
    },
    {
      "cell_type": "code",
      "execution_count": null,
      "metadata": {
        "id": "WXo_hftlqLxh",
        "outputId": "3eb393d5-83f7-4a4d-b38d-8aef80157178",
        "colab": {
          "base_uri": "https://localhost:8080/"
        }
      },
      "outputs": [
        {
          "output_type": "stream",
          "name": "stdout",
          "text": [
            "<class 'pandas.core.frame.DataFrame'>\n",
            "RangeIndex: 1000 entries, 0 to 999\n",
            "Columns: 14 entries, Region to Total Profit\n",
            "dtypes: float64(5), int64(2), object(7)\n",
            "memory usage: 502.1 KB\n"
          ]
        }
      ],
      "source": [
        "df = pd.read_csv('1000000 Sales Records.csv', nrows=1000)\n",
        "df.info(verbose=False, memory_usage='deep')"
      ]
    },
    {
      "cell_type": "code",
      "execution_count": null,
      "metadata": {
        "id": "IwLqB4yzqLxh",
        "outputId": "d4910de5-f9d5-4786-fd4e-181ed6e98997",
        "colab": {
          "base_uri": "https://localhost:8080/"
        }
      },
      "outputs": [
        {
          "output_type": "execute_result",
          "data": {
            "text/plain": [
              "array(['Region', 'Country', 'Item Type', 'Sales Channel',\n",
              "       'Order Priority', 'Order Date', 'Order ID', 'Ship Date',\n",
              "       'Units Sold', 'Unit Price', 'Unit Cost', 'Total Revenue',\n",
              "       'Total Cost', 'Total Profit'], dtype=object)"
            ]
          },
          "metadata": {},
          "execution_count": 7
        }
      ],
      "source": [
        "cols = df.columns.values\n",
        "cols"
      ]
    },
    {
      "cell_type": "code",
      "execution_count": null,
      "metadata": {
        "id": "bX1zvXi4qLxh"
      },
      "outputs": [],
      "source": [
        "req_cols = ['Region', 'Country', 'Item Type', 'Sales Channel',\n",
        "       'Order Priority',\n",
        "       'Units Sold', 'Unit Price', 'Unit Cost', 'Total Revenue',\n",
        "       'Total Cost', 'Total Profit']"
      ]
    },
    {
      "cell_type": "code",
      "execution_count": null,
      "metadata": {
        "id": "xwNWzPwsqLxh",
        "outputId": "1bde8fe7-6191-4182-a474-b35b7a1802d5",
        "colab": {
          "base_uri": "https://localhost:8080/",
          "height": 302
        }
      },
      "outputs": [
        {
          "output_type": "execute_result",
          "data": {
            "text/plain": [
              "                         Region           Country  Item Type Sales Channel  \\\n",
              "0            Sub-Saharan Africa      South Africa     Fruits       Offline   \n",
              "1  Middle East and North Africa           Morocco    Clothes        Online   \n",
              "2         Australia and Oceania  Papua New Guinea       Meat       Offline   \n",
              "3            Sub-Saharan Africa          Djibouti    Clothes       Offline   \n",
              "4                        Europe          Slovakia  Beverages       Offline   \n",
              "\n",
              "  Order Priority  Units Sold  Unit Price  Unit Cost  Total Revenue  \\\n",
              "0              M      1593.0        9.33       6.92       14862.69   \n",
              "1              M      4611.0      109.28      35.84      503890.08   \n",
              "2              M       360.0      421.89     364.69      151880.40   \n",
              "3              H       562.0      109.28      35.84       61415.36   \n",
              "4              L      3973.0       47.45      31.79      188518.85   \n",
              "\n",
              "   Total Cost  Total Profit  \n",
              "0    11023.56       3839.13  \n",
              "1   165258.24     338631.84  \n",
              "2   131288.40      20592.00  \n",
              "3    20142.08      41273.28  \n",
              "4   126301.67      62217.18  "
            ],
            "text/html": [
              "\n",
              "  <div id=\"df-1c9cd908-a7b4-4c2c-b568-fed09206bc66\">\n",
              "    <div class=\"colab-df-container\">\n",
              "      <div>\n",
              "<style scoped>\n",
              "    .dataframe tbody tr th:only-of-type {\n",
              "        vertical-align: middle;\n",
              "    }\n",
              "\n",
              "    .dataframe tbody tr th {\n",
              "        vertical-align: top;\n",
              "    }\n",
              "\n",
              "    .dataframe thead th {\n",
              "        text-align: right;\n",
              "    }\n",
              "</style>\n",
              "<table border=\"1\" class=\"dataframe\">\n",
              "  <thead>\n",
              "    <tr style=\"text-align: right;\">\n",
              "      <th></th>\n",
              "      <th>Region</th>\n",
              "      <th>Country</th>\n",
              "      <th>Item Type</th>\n",
              "      <th>Sales Channel</th>\n",
              "      <th>Order Priority</th>\n",
              "      <th>Units Sold</th>\n",
              "      <th>Unit Price</th>\n",
              "      <th>Unit Cost</th>\n",
              "      <th>Total Revenue</th>\n",
              "      <th>Total Cost</th>\n",
              "      <th>Total Profit</th>\n",
              "    </tr>\n",
              "  </thead>\n",
              "  <tbody>\n",
              "    <tr>\n",
              "      <th>0</th>\n",
              "      <td>Sub-Saharan Africa</td>\n",
              "      <td>South Africa</td>\n",
              "      <td>Fruits</td>\n",
              "      <td>Offline</td>\n",
              "      <td>M</td>\n",
              "      <td>1593.0</td>\n",
              "      <td>9.33</td>\n",
              "      <td>6.92</td>\n",
              "      <td>14862.69</td>\n",
              "      <td>11023.56</td>\n",
              "      <td>3839.13</td>\n",
              "    </tr>\n",
              "    <tr>\n",
              "      <th>1</th>\n",
              "      <td>Middle East and North Africa</td>\n",
              "      <td>Morocco</td>\n",
              "      <td>Clothes</td>\n",
              "      <td>Online</td>\n",
              "      <td>M</td>\n",
              "      <td>4611.0</td>\n",
              "      <td>109.28</td>\n",
              "      <td>35.84</td>\n",
              "      <td>503890.08</td>\n",
              "      <td>165258.24</td>\n",
              "      <td>338631.84</td>\n",
              "    </tr>\n",
              "    <tr>\n",
              "      <th>2</th>\n",
              "      <td>Australia and Oceania</td>\n",
              "      <td>Papua New Guinea</td>\n",
              "      <td>Meat</td>\n",
              "      <td>Offline</td>\n",
              "      <td>M</td>\n",
              "      <td>360.0</td>\n",
              "      <td>421.89</td>\n",
              "      <td>364.69</td>\n",
              "      <td>151880.40</td>\n",
              "      <td>131288.40</td>\n",
              "      <td>20592.00</td>\n",
              "    </tr>\n",
              "    <tr>\n",
              "      <th>3</th>\n",
              "      <td>Sub-Saharan Africa</td>\n",
              "      <td>Djibouti</td>\n",
              "      <td>Clothes</td>\n",
              "      <td>Offline</td>\n",
              "      <td>H</td>\n",
              "      <td>562.0</td>\n",
              "      <td>109.28</td>\n",
              "      <td>35.84</td>\n",
              "      <td>61415.36</td>\n",
              "      <td>20142.08</td>\n",
              "      <td>41273.28</td>\n",
              "    </tr>\n",
              "    <tr>\n",
              "      <th>4</th>\n",
              "      <td>Europe</td>\n",
              "      <td>Slovakia</td>\n",
              "      <td>Beverages</td>\n",
              "      <td>Offline</td>\n",
              "      <td>L</td>\n",
              "      <td>3973.0</td>\n",
              "      <td>47.45</td>\n",
              "      <td>31.79</td>\n",
              "      <td>188518.85</td>\n",
              "      <td>126301.67</td>\n",
              "      <td>62217.18</td>\n",
              "    </tr>\n",
              "  </tbody>\n",
              "</table>\n",
              "</div>\n",
              "      <button class=\"colab-df-convert\" onclick=\"convertToInteractive('df-1c9cd908-a7b4-4c2c-b568-fed09206bc66')\"\n",
              "              title=\"Convert this dataframe to an interactive table.\"\n",
              "              style=\"display:none;\">\n",
              "        \n",
              "  <svg xmlns=\"http://www.w3.org/2000/svg\" height=\"24px\"viewBox=\"0 0 24 24\"\n",
              "       width=\"24px\">\n",
              "    <path d=\"M0 0h24v24H0V0z\" fill=\"none\"/>\n",
              "    <path d=\"M18.56 5.44l.94 2.06.94-2.06 2.06-.94-2.06-.94-.94-2.06-.94 2.06-2.06.94zm-11 1L8.5 8.5l.94-2.06 2.06-.94-2.06-.94L8.5 2.5l-.94 2.06-2.06.94zm10 10l.94 2.06.94-2.06 2.06-.94-2.06-.94-.94-2.06-.94 2.06-2.06.94z\"/><path d=\"M17.41 7.96l-1.37-1.37c-.4-.4-.92-.59-1.43-.59-.52 0-1.04.2-1.43.59L10.3 9.45l-7.72 7.72c-.78.78-.78 2.05 0 2.83L4 21.41c.39.39.9.59 1.41.59.51 0 1.02-.2 1.41-.59l7.78-7.78 2.81-2.81c.8-.78.8-2.07 0-2.86zM5.41 20L4 18.59l7.72-7.72 1.47 1.35L5.41 20z\"/>\n",
              "  </svg>\n",
              "      </button>\n",
              "      \n",
              "  <style>\n",
              "    .colab-df-container {\n",
              "      display:flex;\n",
              "      flex-wrap:wrap;\n",
              "      gap: 12px;\n",
              "    }\n",
              "\n",
              "    .colab-df-convert {\n",
              "      background-color: #E8F0FE;\n",
              "      border: none;\n",
              "      border-radius: 50%;\n",
              "      cursor: pointer;\n",
              "      display: none;\n",
              "      fill: #1967D2;\n",
              "      height: 32px;\n",
              "      padding: 0 0 0 0;\n",
              "      width: 32px;\n",
              "    }\n",
              "\n",
              "    .colab-df-convert:hover {\n",
              "      background-color: #E2EBFA;\n",
              "      box-shadow: 0px 1px 2px rgba(60, 64, 67, 0.3), 0px 1px 3px 1px rgba(60, 64, 67, 0.15);\n",
              "      fill: #174EA6;\n",
              "    }\n",
              "\n",
              "    [theme=dark] .colab-df-convert {\n",
              "      background-color: #3B4455;\n",
              "      fill: #D2E3FC;\n",
              "    }\n",
              "\n",
              "    [theme=dark] .colab-df-convert:hover {\n",
              "      background-color: #434B5C;\n",
              "      box-shadow: 0px 1px 3px 1px rgba(0, 0, 0, 0.15);\n",
              "      filter: drop-shadow(0px 1px 2px rgba(0, 0, 0, 0.3));\n",
              "      fill: #FFFFFF;\n",
              "    }\n",
              "  </style>\n",
              "\n",
              "      <script>\n",
              "        const buttonEl =\n",
              "          document.querySelector('#df-1c9cd908-a7b4-4c2c-b568-fed09206bc66 button.colab-df-convert');\n",
              "        buttonEl.style.display =\n",
              "          google.colab.kernel.accessAllowed ? 'block' : 'none';\n",
              "\n",
              "        async function convertToInteractive(key) {\n",
              "          const element = document.querySelector('#df-1c9cd908-a7b4-4c2c-b568-fed09206bc66');\n",
              "          const dataTable =\n",
              "            await google.colab.kernel.invokeFunction('convertToInteractive',\n",
              "                                                     [key], {});\n",
              "          if (!dataTable) return;\n",
              "\n",
              "          const docLinkHtml = 'Like what you see? Visit the ' +\n",
              "            '<a target=\"_blank\" href=https://colab.research.google.com/notebooks/data_table.ipynb>data table notebook</a>'\n",
              "            + ' to learn more about interactive tables.';\n",
              "          element.innerHTML = '';\n",
              "          dataTable['output_type'] = 'display_data';\n",
              "          await google.colab.output.renderOutput(dataTable, element);\n",
              "          const docLink = document.createElement('div');\n",
              "          docLink.innerHTML = docLinkHtml;\n",
              "          element.appendChild(docLink);\n",
              "        }\n",
              "      </script>\n",
              "    </div>\n",
              "  </div>\n",
              "  "
            ]
          },
          "metadata": {},
          "execution_count": 19
        }
      ],
      "source": [
        "df = pd.read_csv('1000000 Sales Records.csv', usecols=req_cols)\n",
        "df.head()"
      ]
    },
    {
      "cell_type": "code",
      "execution_count": null,
      "metadata": {
        "id": "Aa3wIgV7qLxh",
        "outputId": "433f1564-e1ef-4c78-9e75-69970988a897",
        "colab": {
          "base_uri": "https://localhost:8080/"
        }
      },
      "outputs": [
        {
          "output_type": "stream",
          "name": "stdout",
          "text": [
            "<class 'pandas.core.frame.DataFrame'>\n",
            "RangeIndex: 168086 entries, 0 to 168085\n",
            "Columns: 11 entries, Region to Total Profit\n",
            "dtypes: float64(6), object(5)\n",
            "memory usage: 59.9 MB\n"
          ]
        }
      ],
      "source": [
        "df.info(verbose=False, memory_usage='deep')"
      ]
    },
    {
      "cell_type": "markdown",
      "metadata": {
        "id": "uyNPSMSNqLxh"
      },
      "source": [
        "## Convert Datatype of the Columns"
      ]
    },
    {
      "cell_type": "code",
      "execution_count": null,
      "metadata": {
        "id": "JubFENQjqLxh",
        "outputId": "9f9a931b-080c-4179-ddc0-8bf0c1e49f2c",
        "colab": {
          "base_uri": "https://localhost:8080/",
          "height": 300
        }
      },
      "outputs": [
        {
          "output_type": "execute_result",
          "data": {
            "text/plain": [
              "          Units Sold     Unit Price      Unit Cost  Total Revenue  \\\n",
              "count  168085.000000  168085.000000  168085.000000   1.680850e+05   \n",
              "mean     4993.941869     266.161904     187.671849   1.328533e+06   \n",
              "std      2885.636641     217.080797     175.718574   1.466898e+06   \n",
              "min         1.000000       9.330000       6.920000   2.799000e+01   \n",
              "25%      2488.000000      81.730000      56.670000   2.779242e+05   \n",
              "50%      4992.000000     154.060000      97.440000   7.876180e+05   \n",
              "75%      7497.000000     437.200000     364.690000   1.818346e+06   \n",
              "max     10000.000000     668.270000     524.960000   6.682700e+06   \n",
              "\n",
              "         Total Cost  Total Profit  \n",
              "count  1.680850e+05  1.680850e+05  \n",
              "mean   9.367654e+05  3.917681e+05  \n",
              "std    1.147865e+06  3.781906e+05  \n",
              "min    2.076000e+01  7.230000e+00  \n",
              "25%    1.622113e+05  9.535330e+04  \n",
              "50%    4.688542e+05  2.815384e+05  \n",
              "75%    1.199636e+06  5.646784e+05  \n",
              "max    5.249600e+06  1.738700e+06  "
            ],
            "text/html": [
              "\n",
              "  <div id=\"df-a8d7f9cf-2346-4f25-82d4-eea1e6601109\">\n",
              "    <div class=\"colab-df-container\">\n",
              "      <div>\n",
              "<style scoped>\n",
              "    .dataframe tbody tr th:only-of-type {\n",
              "        vertical-align: middle;\n",
              "    }\n",
              "\n",
              "    .dataframe tbody tr th {\n",
              "        vertical-align: top;\n",
              "    }\n",
              "\n",
              "    .dataframe thead th {\n",
              "        text-align: right;\n",
              "    }\n",
              "</style>\n",
              "<table border=\"1\" class=\"dataframe\">\n",
              "  <thead>\n",
              "    <tr style=\"text-align: right;\">\n",
              "      <th></th>\n",
              "      <th>Units Sold</th>\n",
              "      <th>Unit Price</th>\n",
              "      <th>Unit Cost</th>\n",
              "      <th>Total Revenue</th>\n",
              "      <th>Total Cost</th>\n",
              "      <th>Total Profit</th>\n",
              "    </tr>\n",
              "  </thead>\n",
              "  <tbody>\n",
              "    <tr>\n",
              "      <th>count</th>\n",
              "      <td>168085.000000</td>\n",
              "      <td>168085.000000</td>\n",
              "      <td>168085.000000</td>\n",
              "      <td>1.680850e+05</td>\n",
              "      <td>1.680850e+05</td>\n",
              "      <td>1.680850e+05</td>\n",
              "    </tr>\n",
              "    <tr>\n",
              "      <th>mean</th>\n",
              "      <td>4993.941869</td>\n",
              "      <td>266.161904</td>\n",
              "      <td>187.671849</td>\n",
              "      <td>1.328533e+06</td>\n",
              "      <td>9.367654e+05</td>\n",
              "      <td>3.917681e+05</td>\n",
              "    </tr>\n",
              "    <tr>\n",
              "      <th>std</th>\n",
              "      <td>2885.636641</td>\n",
              "      <td>217.080797</td>\n",
              "      <td>175.718574</td>\n",
              "      <td>1.466898e+06</td>\n",
              "      <td>1.147865e+06</td>\n",
              "      <td>3.781906e+05</td>\n",
              "    </tr>\n",
              "    <tr>\n",
              "      <th>min</th>\n",
              "      <td>1.000000</td>\n",
              "      <td>9.330000</td>\n",
              "      <td>6.920000</td>\n",
              "      <td>2.799000e+01</td>\n",
              "      <td>2.076000e+01</td>\n",
              "      <td>7.230000e+00</td>\n",
              "    </tr>\n",
              "    <tr>\n",
              "      <th>25%</th>\n",
              "      <td>2488.000000</td>\n",
              "      <td>81.730000</td>\n",
              "      <td>56.670000</td>\n",
              "      <td>2.779242e+05</td>\n",
              "      <td>1.622113e+05</td>\n",
              "      <td>9.535330e+04</td>\n",
              "    </tr>\n",
              "    <tr>\n",
              "      <th>50%</th>\n",
              "      <td>4992.000000</td>\n",
              "      <td>154.060000</td>\n",
              "      <td>97.440000</td>\n",
              "      <td>7.876180e+05</td>\n",
              "      <td>4.688542e+05</td>\n",
              "      <td>2.815384e+05</td>\n",
              "    </tr>\n",
              "    <tr>\n",
              "      <th>75%</th>\n",
              "      <td>7497.000000</td>\n",
              "      <td>437.200000</td>\n",
              "      <td>364.690000</td>\n",
              "      <td>1.818346e+06</td>\n",
              "      <td>1.199636e+06</td>\n",
              "      <td>5.646784e+05</td>\n",
              "    </tr>\n",
              "    <tr>\n",
              "      <th>max</th>\n",
              "      <td>10000.000000</td>\n",
              "      <td>668.270000</td>\n",
              "      <td>524.960000</td>\n",
              "      <td>6.682700e+06</td>\n",
              "      <td>5.249600e+06</td>\n",
              "      <td>1.738700e+06</td>\n",
              "    </tr>\n",
              "  </tbody>\n",
              "</table>\n",
              "</div>\n",
              "      <button class=\"colab-df-convert\" onclick=\"convertToInteractive('df-a8d7f9cf-2346-4f25-82d4-eea1e6601109')\"\n",
              "              title=\"Convert this dataframe to an interactive table.\"\n",
              "              style=\"display:none;\">\n",
              "        \n",
              "  <svg xmlns=\"http://www.w3.org/2000/svg\" height=\"24px\"viewBox=\"0 0 24 24\"\n",
              "       width=\"24px\">\n",
              "    <path d=\"M0 0h24v24H0V0z\" fill=\"none\"/>\n",
              "    <path d=\"M18.56 5.44l.94 2.06.94-2.06 2.06-.94-2.06-.94-.94-2.06-.94 2.06-2.06.94zm-11 1L8.5 8.5l.94-2.06 2.06-.94-2.06-.94L8.5 2.5l-.94 2.06-2.06.94zm10 10l.94 2.06.94-2.06 2.06-.94-2.06-.94-.94-2.06-.94 2.06-2.06.94z\"/><path d=\"M17.41 7.96l-1.37-1.37c-.4-.4-.92-.59-1.43-.59-.52 0-1.04.2-1.43.59L10.3 9.45l-7.72 7.72c-.78.78-.78 2.05 0 2.83L4 21.41c.39.39.9.59 1.41.59.51 0 1.02-.2 1.41-.59l7.78-7.78 2.81-2.81c.8-.78.8-2.07 0-2.86zM5.41 20L4 18.59l7.72-7.72 1.47 1.35L5.41 20z\"/>\n",
              "  </svg>\n",
              "      </button>\n",
              "      \n",
              "  <style>\n",
              "    .colab-df-container {\n",
              "      display:flex;\n",
              "      flex-wrap:wrap;\n",
              "      gap: 12px;\n",
              "    }\n",
              "\n",
              "    .colab-df-convert {\n",
              "      background-color: #E8F0FE;\n",
              "      border: none;\n",
              "      border-radius: 50%;\n",
              "      cursor: pointer;\n",
              "      display: none;\n",
              "      fill: #1967D2;\n",
              "      height: 32px;\n",
              "      padding: 0 0 0 0;\n",
              "      width: 32px;\n",
              "    }\n",
              "\n",
              "    .colab-df-convert:hover {\n",
              "      background-color: #E2EBFA;\n",
              "      box-shadow: 0px 1px 2px rgba(60, 64, 67, 0.3), 0px 1px 3px 1px rgba(60, 64, 67, 0.15);\n",
              "      fill: #174EA6;\n",
              "    }\n",
              "\n",
              "    [theme=dark] .colab-df-convert {\n",
              "      background-color: #3B4455;\n",
              "      fill: #D2E3FC;\n",
              "    }\n",
              "\n",
              "    [theme=dark] .colab-df-convert:hover {\n",
              "      background-color: #434B5C;\n",
              "      box-shadow: 0px 1px 3px 1px rgba(0, 0, 0, 0.15);\n",
              "      filter: drop-shadow(0px 1px 2px rgba(0, 0, 0, 0.3));\n",
              "      fill: #FFFFFF;\n",
              "    }\n",
              "  </style>\n",
              "\n",
              "      <script>\n",
              "        const buttonEl =\n",
              "          document.querySelector('#df-a8d7f9cf-2346-4f25-82d4-eea1e6601109 button.colab-df-convert');\n",
              "        buttonEl.style.display =\n",
              "          google.colab.kernel.accessAllowed ? 'block' : 'none';\n",
              "\n",
              "        async function convertToInteractive(key) {\n",
              "          const element = document.querySelector('#df-a8d7f9cf-2346-4f25-82d4-eea1e6601109');\n",
              "          const dataTable =\n",
              "            await google.colab.kernel.invokeFunction('convertToInteractive',\n",
              "                                                     [key], {});\n",
              "          if (!dataTable) return;\n",
              "\n",
              "          const docLinkHtml = 'Like what you see? Visit the ' +\n",
              "            '<a target=\"_blank\" href=https://colab.research.google.com/notebooks/data_table.ipynb>data table notebook</a>'\n",
              "            + ' to learn more about interactive tables.';\n",
              "          element.innerHTML = '';\n",
              "          dataTable['output_type'] = 'display_data';\n",
              "          await google.colab.output.renderOutput(dataTable, element);\n",
              "          const docLink = document.createElement('div');\n",
              "          docLink.innerHTML = docLinkHtml;\n",
              "          element.appendChild(docLink);\n",
              "        }\n",
              "      </script>\n",
              "    </div>\n",
              "  </div>\n",
              "  "
            ]
          },
          "metadata": {},
          "execution_count": 11
        }
      ],
      "source": [
        "df.describe()"
      ]
    },
    {
      "cell_type": "code",
      "execution_count": null,
      "metadata": {
        "id": "0bEwcPJ7qLxi"
      },
      "outputs": [],
      "source": [
        "for col in df.columns:\n",
        "    if df[col].dtype == 'float64':\n",
        "        df[col] = df[col].astype('float16')\n",
        "    if df[col].dtype == 'int64':\n",
        "        df[col] = df[col].astype('int16')\n",
        "    if df[col].dtype == 'object':\n",
        "        df[col] = df[col].astype('category')"
      ]
    },
    {
      "cell_type": "code",
      "execution_count": null,
      "metadata": {
        "id": "pj8DkMynqLxi",
        "outputId": "a80c6131-112a-4033-c1b0-c2814d5491b9",
        "colab": {
          "base_uri": "https://localhost:8080/"
        }
      },
      "outputs": [
        {
          "output_type": "stream",
          "name": "stdout",
          "text": [
            "<class 'pandas.core.frame.DataFrame'>\n",
            "RangeIndex: 168086 entries, 0 to 168085\n",
            "Columns: 11 entries, Region to Total Profit\n",
            "dtypes: category(5), float16(6)\n",
            "memory usage: 2.9 MB\n"
          ]
        }
      ],
      "source": [
        "df.info(verbose=False, memory_usage='deep')"
      ]
    },
    {
      "cell_type": "code",
      "execution_count": null,
      "metadata": {
        "id": "gezWDMu7qLxi",
        "outputId": "169993b3-1518-475a-9130-8e943e4dc804",
        "colab": {
          "base_uri": "https://localhost:8080/"
        }
      },
      "outputs": [
        {
          "output_type": "stream",
          "name": "stdout",
          "text": [
            "<class 'pandas.core.frame.DataFrame'>\n",
            "RangeIndex: 268888 entries, 0 to 268887\n",
            "Columns: 11 entries, Region to Total Profit\n",
            "dtypes: category(1), float64(5), int16(1), object(4)\n",
            "memory usage: 75.9 MB\n"
          ]
        }
      ],
      "source": [
        "df = pd.read_csv('1000000 Sales Records.csv', usecols=req_cols, dtype={'Region': 'category', 'Units Sold': 'int16'})\n",
        "df.info(verbose=False, memory_usage='deep')"
      ]
    },
    {
      "cell_type": "markdown",
      "metadata": {
        "id": "Ss-GnXqDqLxi"
      },
      "source": [
        "## Load Dataset Faster using chunks"
      ]
    },
    {
      "cell_type": "code",
      "execution_count": null,
      "metadata": {
        "id": "a908XV_QqLxi",
        "outputId": "9bf3c693-fbad-4bdc-8f75-46416144e20b",
        "colab": {
          "base_uri": "https://localhost:8080/"
        }
      },
      "outputs": [
        {
          "output_type": "stream",
          "name": "stdout",
          "text": [
            "CPU times: user 349 ms, sys: 16.4 ms, total: 365 ms\n",
            "Wall time: 366 ms\n"
          ]
        },
        {
          "output_type": "execute_result",
          "data": {
            "text/plain": [
              "277267"
            ]
          },
          "metadata": {},
          "execution_count": 16
        }
      ],
      "source": [
        "%%time\n",
        "df = pd.read_csv('1000000 Sales Records.csv')\n",
        "len(df)"
      ]
    },
    {
      "cell_type": "code",
      "execution_count": null,
      "metadata": {
        "id": "u5gpk-lGqLxi",
        "outputId": "7cc0e53f-f58b-45d6-fe5e-7ff32e6029e3",
        "colab": {
          "base_uri": "https://localhost:8080/"
        }
      },
      "outputs": [
        {
          "output_type": "stream",
          "name": "stdout",
          "text": [
            "CPU times: user 2.75 ms, sys: 73 µs, total: 2.83 ms\n",
            "Wall time: 5.56 ms\n"
          ]
        }
      ],
      "source": [
        "%%time\n",
        "chunks = pd.read_csv('1000000 Sales Records.csv', iterator=True, chunksize=1000)\n",
        "# df = pd.concat(chunks, ignore_index=True)\n",
        "# df.head()"
      ]
    },
    {
      "cell_type": "code",
      "execution_count": null,
      "metadata": {
        "id": "27PkGdtVqLxi",
        "outputId": "bd93fd35-3edd-44e1-a180-9888c22c9754",
        "colab": {
          "base_uri": "https://localhost:8080/"
        }
      },
      "outputs": [
        {
          "output_type": "execute_result",
          "data": {
            "text/plain": [
              "285684"
            ]
          },
          "metadata": {},
          "execution_count": 18
        }
      ],
      "source": [
        "length = 0\n",
        "for chunk in chunks:\n",
        "    length += len(chunk)\n",
        "length"
      ]
    },
    {
      "cell_type": "code",
      "source": [],
      "metadata": {
        "id": "jfJCkm1fGQcN"
      },
      "execution_count": null,
      "outputs": []
    }
  ],
  "metadata": {
    "kernelspec": {
      "display_name": "Python 3",
      "language": "python",
      "name": "python3"
    },
    "language_info": {
      "codemirror_mode": {
        "name": "ipython",
        "version": 3
      },
      "file_extension": ".py",
      "mimetype": "text/x-python",
      "name": "python",
      "nbconvert_exporter": "python",
      "pygments_lexer": "ipython3",
      "version": "3.8.3"
    },
    "colab": {
      "provenance": []
    }
  },
  "nbformat": 4,
  "nbformat_minor": 0
}